{
 "cells": [
  {
   "cell_type": "code",
   "execution_count": 1,
   "outputs": [],
   "source": [
    "from datetime import datetime\n",
    "import numpy as np\n",
    "import psycopg2 as pg2\n",
    "from psycopg2.extensions import ISOLATION_LEVEL_AUTOCOMMIT, register_adapter, AsIs\n",
    "import time\n",
    "import ast\n",
    "import random\n",
    "\n",
    "register_adapter(np.uint16, AsIs)\n",
    "register_adapter(np.int64, AsIs)\n",
    "register_adapter(np.int32, AsIs)\n",
    "register_adapter(np.float64, AsIs)"
   ],
   "metadata": {
    "collapsed": false,
    "ExecuteTime": {
     "end_time": "2024-01-01T19:47:59.957483200Z",
     "start_time": "2024-01-01T19:47:59.864847600Z"
    }
   },
   "id": "e32de7c28c9a2bf3"
  },
  {
   "cell_type": "markdown",
   "source": [
    "# Build a New Database and Table."
   ],
   "metadata": {
    "collapsed": false
   },
   "id": "14cf71c1a9c990cf"
  },
  {
   "cell_type": "code",
   "execution_count": 2,
   "outputs": [],
   "source": [
    "u = p = 'postgres' # User and password. \n",
    "database_name = 'acs_test'\n",
    "table_name = 'acs'"
   ],
   "metadata": {
    "collapsed": false,
    "ExecuteTime": {
     "end_time": "2024-01-01T19:47:59.972703100Z",
     "start_time": "2024-01-01T19:47:59.958480300Z"
    }
   },
   "id": "initial_id"
  },
  {
   "cell_type": "code",
   "execution_count": 3,
   "outputs": [],
   "source": [
    "maintcon = pg2.connect(f\"dbname=postgres user={u} password={p}\") # Maintenance connection.\n",
    "maintcon.set_isolation_level(ISOLATION_LEVEL_AUTOCOMMIT)\n",
    "maintcur = maintcon.cursor()"
   ],
   "metadata": {
    "collapsed": false,
    "ExecuteTime": {
     "end_time": "2024-01-01T19:48:00.019854900Z",
     "start_time": "2024-01-01T19:47:59.973632100Z"
    }
   },
   "id": "ae0c5e1e0e9a618f"
  },
  {
   "cell_type": "code",
   "execution_count": 4,
   "outputs": [],
   "source": [
    "try: # Try to create the database if it does not exist.\n",
    "    statement = f'CREATE DATABASE {database_name}'\n",
    "    maintcur.execute(statement)\n",
    "except:\n",
    "    pass"
   ],
   "metadata": {
    "collapsed": false,
    "ExecuteTime": {
     "end_time": "2024-01-01T19:48:00.189747200Z",
     "start_time": "2024-01-01T19:48:00.021853400Z"
    }
   },
   "id": "9eaa3b20159b9cb9"
  },
  {
   "cell_type": "code",
   "execution_count": 5,
   "outputs": [],
   "source": [
    "dbcon = pg2.connect(f\"dbname={database_name} user={u} password={p}\") # Database connection.\n",
    "dbcon.set_isolation_level(ISOLATION_LEVEL_AUTOCOMMIT)\n",
    "dbcur = dbcon.cursor()"
   ],
   "metadata": {
    "collapsed": false,
    "ExecuteTime": {
     "end_time": "2024-01-01T19:48:00.236834200Z",
     "start_time": "2024-01-01T19:48:00.191735700Z"
    }
   },
   "id": "cc130f3db0217a2a"
  },
  {
   "cell_type": "code",
   "execution_count": 6,
   "outputs": [],
   "source": [
    "pk = 'time'\n",
    "fields_dtypes = {'time': 'TIMESTAMP',  # Create a table with fields time, wavelength, a, and current (text data)\n",
    "                 'wavelength': 'FLOAT[]',\n",
    "                 'a': 'FLOAT[]',\n",
    "                 'current': 'TEXT'}\n",
    "fields_dtypes_str = ', '.join([' '.join([k, v]) for k, v in fields_dtypes.items()]) + f\", PRIMARY KEY ({pk})\"\n",
    "statement = f\"CREATE TABLE IF NOT EXISTS {table_name}({fields_dtypes_str})\"\n",
    "dbcur.execute(statement)"
   ],
   "metadata": {
    "collapsed": false,
    "ExecuteTime": {
     "end_time": "2024-01-01T19:48:00.251291800Z",
     "start_time": "2024-01-01T19:48:00.237825200Z"
    }
   },
   "id": "75ca1b31db299790"
  },
  {
   "cell_type": "markdown",
   "source": [
    "# Generate Test Data"
   ],
   "metadata": {
    "collapsed": false
   },
   "id": "c0bb36978b88ef36"
  },
  {
   "cell_type": "code",
   "execution_count": 7,
   "outputs": [],
   "source": [
    "for i in range(10000):\n",
    "    wvls = list(np.arange(410,750,4)) # Generate ACS-like bins.\n",
    "    vals = [random.uniform(0,1) for i in range(len(wvls))] # Create random floats between 0 and 1.\n",
    "    txt = str(dict(zip(wvls, vals)))\n",
    "    insert_data = {'time': datetime.now(),\n",
    "                   'wavelength': wvls,\n",
    "                   'a': vals,\n",
    "                   'current': txt}\n",
    "    fields = ', '.join(list(insert_data.keys()))\n",
    "    data = list(insert_data.values())\n",
    "    values = ', '.join(['%s'] * len(data))\n",
    "    statement = f\"INSERT INTO {table_name} ({fields}) VALUES ({values})\"\n",
    "    dbcur.execute(statement, data)\n",
    "    time.sleep(0.05)"
   ],
   "metadata": {
    "collapsed": false,
    "ExecuteTime": {
     "end_time": "2024-01-01T19:58:19.264341Z",
     "start_time": "2024-01-01T19:48:00.255283300Z"
    }
   },
   "id": "b641f93b09dc8988"
  },
  {
   "cell_type": "markdown",
   "source": [
    "# Get Size of Columns"
   ],
   "metadata": {
    "collapsed": false
   },
   "id": "ab13c905d86a1ba2"
  },
  {
   "cell_type": "code",
   "execution_count": 8,
   "outputs": [],
   "source": [
    "statement  = 'SELECT sum(pg_column_size(current)) FROM acs'\n",
    "dbcur.execute(statement)\n",
    "current_size = dbcur.fetchall()\n",
    "\n",
    "statement  = 'SELECT sum(pg_column_size(wavelength)) FROM acs'\n",
    "dbcur.execute(statement)\n",
    "wavelength_size = dbcur.fetchall()\n",
    "\n",
    "statement  = 'SELECT sum(pg_column_size(a)) FROM acs'\n",
    "dbcur.execute(statement)\n",
    "a_size = dbcur.fetchall()"
   ],
   "metadata": {
    "collapsed": false,
    "ExecuteTime": {
     "end_time": "2024-01-01T19:58:19.278744200Z",
     "start_time": "2024-01-01T19:58:19.267331300Z"
    }
   },
   "id": "4e4fd321179d9832"
  },
  {
   "cell_type": "code",
   "execution_count": 9,
   "outputs": [
    {
     "name": "stdout",
     "output_type": "stream",
     "text": [
      "Text Storage Size: 21479896 bytes\n",
      "Array Storage Size: 14080000 bytes\n"
     ]
    }
   ],
   "source": [
    "print(f'Text Storage Size: {current_size[0][0]} bytes')\n",
    "print(f'Array Storage Size: {wavelength_size[0][0] + a_size[0][0]} bytes')"
   ],
   "metadata": {
    "collapsed": false,
    "ExecuteTime": {
     "end_time": "2024-01-01T19:58:19.293740600Z",
     "start_time": "2024-01-01T19:58:19.279740500Z"
    }
   },
   "id": "6bbcc37cf18a46d9"
  },
  {
   "cell_type": "markdown",
   "source": [
    "# Get Time to Obtain Data"
   ],
   "metadata": {
    "collapsed": false
   },
   "id": "cf97eadc43ea9363"
  },
  {
   "cell_type": "code",
   "execution_count": 15,
   "outputs": [
    {
     "name": "stdout",
     "output_type": "stream",
     "text": [
      "CPU times: total: 328 ms\n",
      "Wall time: 580 ms\n"
     ]
    }
   ],
   "source": [
    "%%time\n",
    "statement = 'SELECT time, wavelength,a from ACS'\n",
    "dbcur.execute(statement)\n",
    "array_data = dbcur.fetchall()"
   ],
   "metadata": {
    "collapsed": false,
    "ExecuteTime": {
     "end_time": "2024-01-01T19:59:40.224754100Z",
     "start_time": "2024-01-01T19:59:39.631828900Z"
    }
   },
   "id": "26a13d4de35d2b01"
  },
  {
   "cell_type": "code",
   "execution_count": 16,
   "outputs": [
    {
     "name": "stdout",
     "output_type": "stream",
     "text": [
      "CPU times: total: 0 ns\n",
      "Wall time: 97.3 ms\n"
     ]
    }
   ],
   "source": [
    "%%time\n",
    "statement = 'SELECT time, current from ACS'\n",
    "dbcur.execute(statement)\n",
    "text_data = dbcur.fetchall()"
   ],
   "metadata": {
    "collapsed": false,
    "ExecuteTime": {
     "end_time": "2024-01-01T19:59:44.611969500Z",
     "start_time": "2024-01-01T19:59:44.495236900Z"
    }
   },
   "id": "c357012dc1428d53"
  },
  {
   "cell_type": "markdown",
   "source": [
    "# Convert data to lists."
   ],
   "metadata": {
    "collapsed": false
   },
   "id": "72a06a0dcf128464"
  },
  {
   "cell_type": "code",
   "execution_count": 24,
   "outputs": [
    {
     "name": "stdout",
     "output_type": "stream",
     "text": [
      "CPU times: total: 0 ns\n",
      "Wall time: 1.06 ms\n"
     ]
    }
   ],
   "source": [
    "%%time\n",
    "wvls = [i[1] for i in array_data]\n",
    "a = [i[2] for i in array_data]"
   ],
   "metadata": {
    "collapsed": false,
    "ExecuteTime": {
     "end_time": "2024-01-01T20:02:40.567444900Z",
     "start_time": "2024-01-01T20:02:40.554403100Z"
    }
   },
   "id": "1bd134a12e2d014d"
  },
  {
   "cell_type": "code",
   "execution_count": 25,
   "outputs": [
    {
     "name": "stdout",
     "output_type": "stream",
     "text": [
      "CPU times: total: 2.53 s\n",
      "Wall time: 2.66 s\n"
     ]
    }
   ],
   "source": [
    "%%time\n",
    "txt = [i[1] for i in text_data]\n",
    "no_txt = [ast.literal_eval(v) for v in txt] \n",
    "txt_wvls = []\n",
    "txt_a = []\n",
    "for item in no_txt:\n",
    "    txt_wvls.append(list(item.keys()))\n",
    "    txt_a.append(list(item.values()))"
   ],
   "metadata": {
    "collapsed": false,
    "ExecuteTime": {
     "end_time": "2024-01-01T20:02:43.703900500Z",
     "start_time": "2024-01-01T20:02:41.033187600Z"
    }
   },
   "id": "19dbe72a1950b2a0"
  },
  {
   "cell_type": "code",
   "execution_count": null,
   "outputs": [],
   "source": [],
   "metadata": {
    "collapsed": false
   },
   "id": "448fa7c4038a4bbc"
  }
 ],
 "metadata": {
  "kernelspec": {
   "display_name": "Python 3",
   "language": "python",
   "name": "python3"
  },
  "language_info": {
   "codemirror_mode": {
    "name": "ipython",
    "version": 2
   },
   "file_extension": ".py",
   "mimetype": "text/x-python",
   "name": "python",
   "nbconvert_exporter": "python",
   "pygments_lexer": "ipython2",
   "version": "2.7.6"
  }
 },
 "nbformat": 4,
 "nbformat_minor": 5
}
