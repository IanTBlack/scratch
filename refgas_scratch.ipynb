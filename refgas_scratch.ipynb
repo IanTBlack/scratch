{
 "cells": [
  {
   "cell_type": "code",
   "id": "initial_id",
   "metadata": {
    "collapsed": true,
    "ExecuteTime": {
     "end_time": "2025-01-13T23:01:19.485455Z",
     "start_time": "2025-01-13T23:01:19.387515Z"
    }
   },
   "source": [
    "from datetime import datetime\n",
    "import requests\n",
    "\n",
    "URL2007 =  'https://gml.noaa.gov/ccl/getresultsx2007.php'  # NOAA GML WMO X2007 Scale API URL\n",
    "URL2019 =  'https://gml.noaa.gov/ccl/getresults.php'  # NOAA GML WMO X2019 Scale API URL. May need to be updated in the future if a new scale comes out.\n",
    "\n",
    "class WMOSCALE():\n",
    "    def __init__(self, url):\n",
    "        self._url = url\n",
    "\n",
    "    def get_all_cal_info(self, sn: str, gas: str) -> list:\n",
    "        params = {'sn': sn.upper(),\n",
    "                  'gas': gas.lower(),\n",
    "                  'format': 'json'}\n",
    "        response = requests.get(self._url, params = params)\n",
    "        if response.status_code == requests.codes.ok:\n",
    "            cal_data = response.json()\n",
    "            data = []\n",
    "            for cal in cal_data:\n",
    "                _cal = {}  #Reformat and rename the data.\n",
    "                _cal['sn'] = cal['serial_number']\n",
    "                dt = datetime.strptime(' '.join((cal['date'], cal['time'])), '%Y-%m-%d %H:%M:%S')\n",
    "                dt_str = dt.strftime('%Y-%m-%dT%H:%M:%SZ')\n",
    "                _cal['datetime'] = dt_str\n",
    "                _cal['fill_code'] = cal['fill_code']\n",
    "                _cal['parameter'] = cal['parameter']\n",
    "                _cal['value'] = cal['value']\n",
    "                _cal['sd'] = cal['std._dev.']\n",
    "                _cal['num_samples'] = cal['num_samples']\n",
    "                _cal['cal_type'] = cal['type']\n",
    "                _cal['cal_system'] = cal['system']\n",
    "                _cal['cal_instrument_code'] = cal['instrument_code']\n",
    "                _cal['tank_pressure'] = cal['tank_pressure']\n",
    "                _cal['flag'] = cal['flag']\n",
    "                _cal['scale'] = cal['scale']\n",
    "                _cal['uncertainty'] = cal['uncertainty']\n",
    "                data.append(_cal)\n",
    "            return data\n",
    "        else:\n",
    "            raise ConnectionError(f\"{response.status_code}: {response.reason}\")\n",
    "            \n",
    "    def get_recent_cal_info(self, sn: str, gas: str) -> dict:\n",
    "        cal_data = self.get_all_cal_info(sn, gas)\n",
    "        dts = [datetime.strptime(v['datetime'], '%Y-%m-%dT%H:%M:%SZ') for v in cal_data]\n",
    "        recent_dt = max(dts)\n",
    "        [recent_cal] = [v for v in cal_data if v['datetime'] == recent_dt.strftime('%Y-%m-%dT%H:%M:%SZ')]\n",
    "        return recent_cal\n",
    "            \n",
    "class X2007(WMOSCALE):\n",
    "    def __init__(self) -> None:\n",
    "        super().__init__(URL2007)\n",
    "            \n",
    "class X2019(WMOSCALE):\n",
    "    def __init__(self) -> None:\n",
    "        super().__init__(URL2019)\n"
   ],
   "outputs": [],
   "execution_count": 1
  },
  {
   "metadata": {
    "ExecuteTime": {
     "end_time": "2025-01-13T23:01:20.763867Z",
     "start_time": "2025-01-13T23:01:19.488467Z"
    }
   },
   "cell_type": "code",
   "source": [
    "%%time\n",
    "x2019 = X2019()\n",
    "gas = 'co2'\n",
    "std1 = x2019.get_recent_cal_info(sn = 'CB11612', gas = gas)\n",
    "std2 = x2019.get_recent_cal_info(sn = 'CC309309', gas = gas)\n",
    "std3 = x2019.get_recent_cal_info(sn = 'CA02044', gas = gas)\n",
    "std4 = x2019.get_recent_cal_info(sn = 'CA06653', gas = gas)\n",
    "std5 = x2019.get_recent_cal_info(sn = 'CA05660', gas = gas)\n",
    "for std in [std1, std2, std3, std4, std5]:\n",
    "    print(std)"
   ],
   "id": "77e13b6b1b40e689",
   "outputs": [
    {
     "name": "stdout",
     "output_type": "stream",
     "text": [
      "{'sn': 'CB11612', 'datetime': '2017-04-06T11:42:00Z', 'fill_code': 'B', 'parameter': 'CO2', 'value': 451.23, 'sd': 0.011, 'num_samples': 8, 'cal_type': 'CRDS', 'cal_system': 'co2cal-2', 'cal_instrument_code': 'PC1', 'tank_pressure': 2015, 'flag': '.', 'scale': 'CO2_X2019', 'uncertainty': 0.01}\n",
      "{'sn': 'CC309309', 'datetime': '2013-12-16T11:25:00Z', 'fill_code': 'B', 'parameter': 'CO2', 'value': 107.104, 'sd': 0.027, 'num_samples': 3, 'cal_type': 'NDIR', 'cal_system': 'co2cal-1', 'cal_instrument_code': 'L9', 'tank_pressure': 2000, 'flag': '.', 'scale': 'CO2_X2019', 'uncertainty': -99.9}\n",
      "{'sn': 'CA02044', 'datetime': '2015-04-21T14:02:00Z', 'fill_code': 'F', 'parameter': 'CO2', 'value': 504.047, 'sd': 0.026, 'num_samples': 3, 'cal_type': 'NDIR', 'cal_system': 'co2cal-1', 'cal_instrument_code': 'L9', 'tank_pressure': 1950, 'flag': '.', 'scale': 'CO2_X2019', 'uncertainty': 0.03}\n",
      "{'sn': 'CA06653', 'datetime': '2013-06-07T23:03:00Z', 'fill_code': 'A', 'parameter': 'CO2', 'value': 257.1, 'sd': 0.029, 'num_samples': 3, 'cal_type': 'NDIR', 'cal_system': 'co2cal-1', 'cal_instrument_code': 'L9', 'tank_pressure': 2000, 'flag': '.', 'scale': 'CO2_X2019', 'uncertainty': 0.03}\n",
      "{'sn': 'CA05660', 'datetime': '2019-04-04T13:27:00Z', 'fill_code': 'E', 'parameter': 'CO2', 'value': 108.059, 'sd': 0.007, 'num_samples': 8, 'cal_type': 'CRDS', 'cal_system': 'co2cal-2', 'cal_instrument_code': 'PC1', 'tank_pressure': 2015, 'flag': '.', 'scale': 'CO2_X2019', 'uncertainty': -99.9}\n",
      "CPU times: total: 0 ns\n",
      "Wall time: 1.26 s\n"
     ]
    }
   ],
   "execution_count": 2
  },
  {
   "metadata": {
    "ExecuteTime": {
     "end_time": "2025-01-13T23:01:20.779921Z",
     "start_time": "2025-01-13T23:01:20.765862Z"
    }
   },
   "cell_type": "code",
   "source": "",
   "id": "8dc57979ff503c82",
   "outputs": [],
   "execution_count": 2
  }
 ],
 "metadata": {
  "kernelspec": {
   "display_name": "Python 3",
   "language": "python",
   "name": "python3"
  },
  "language_info": {
   "codemirror_mode": {
    "name": "ipython",
    "version": 2
   },
   "file_extension": ".py",
   "mimetype": "text/x-python",
   "name": "python",
   "nbconvert_exporter": "python",
   "pygments_lexer": "ipython2",
   "version": "2.7.6"
  }
 },
 "nbformat": 4,
 "nbformat_minor": 5
}
