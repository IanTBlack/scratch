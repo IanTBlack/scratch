{
 "cells": [
  {
   "cell_type": "code",
   "id": "initial_id",
   "metadata": {
    "collapsed": true,
    "ExecuteTime": {
     "end_time": "2024-06-26T16:32:18.351078Z",
     "start_time": "2024-06-26T16:32:18.007268Z"
    }
   },
   "source": [
    "from datetime import datetime, timezone, timedelta\n",
    "import struct\n",
    "import numpy as np\n",
    "from typing import NamedTuple\n",
    "import xarray as xr"
   ],
   "outputs": [],
   "execution_count": 1
  },
  {
   "metadata": {
    "ExecuteTime": {
     "end_time": "2024-06-26T16:32:18.354934Z",
     "start_time": "2024-06-26T16:32:18.351078Z"
    }
   },
   "cell_type": "code",
   "source": "fp = 'C:/Users\\Ian\\projects/acpype/tests/test_data\\OPTAAD106_10.33.14.8_2101_20140930T1200_UTC.dat'",
   "id": "58163a87b711d7b4",
   "outputs": [],
   "execution_count": 2
  },
  {
   "metadata": {
    "ExecuteTime": {
     "end_time": "2024-06-26T16:32:18.365449Z",
     "start_time": "2024-06-26T16:32:18.355940Z"
    }
   },
   "cell_type": "code",
   "source": [
    "with open(fp, 'rb') as bf:\n",
    "    contents = bytearray(bf.read())"
   ],
   "id": "8839732e1c0471af",
   "outputs": [],
   "execution_count": 3
  },
  {
   "metadata": {
    "ExecuteTime": {
     "end_time": "2024-06-26T16:32:18.372505Z",
     "start_time": "2024-06-26T16:32:18.366459Z"
    }
   },
   "cell_type": "code",
   "source": [
    "PACKET_REGISTRATION = b'\\xff\\x00\\xff\\x00'\n",
    "LEN_REG = len(PACKET_REGISTRATION)\n",
    "PAD_BYTE = b'\\x00'\n",
    "PACKET_HEAD = '!4cHBBl7HIBB'\n",
    "PACKET_TAIL = 'Hx'\n",
    "LEN_PREDEFINED = struct.calcsize(PACKET_HEAD + PACKET_TAIL)\n",
    "LEN_CHECK_PAD = 2 + 1\n",
    "WVL_BYTE_OFFSET = 4 + 2 + 1 + 1 + 1 + 3 + 2 + 2 + 2 + 2 + 2 + 2 + 2 + 4 + 1  # See Process Data section in ACS manual.\n",
    "\n",
    "\n",
    "class ParsedPacket(NamedTuple):\n",
    "    reg_bytes: tuple\n",
    "    record_length: int\n",
    "    packet_type: int\n",
    "    reserved_1: int\n",
    "    serial_number_int: int\n",
    "    a_reference_dark:  int\n",
    "    pressure_raw:  int\n",
    "    a_signal_dark:  int\n",
    "    external_temperature_raw:  int\n",
    "    internal_temperature_raw:  int\n",
    "    c_reference_dark:  int\n",
    "    c_signal_dark:  int\n",
    "    elapsed_time:  int\n",
    "    reserved_2:  int\n",
    "    number_of_wavelength_bins:  int\n",
    "    c_reference:  tuple\n",
    "    c_signal:  tuple\n",
    "    a_reference:  tuple\n",
    "    a_signal:  tuple\n",
    "    checksum: int\n",
    "    \n",
    "    \n",
    "def parse_packet(packet):\n",
    "    [nwvls] = struct.unpack_from('B', packet, offset=WVL_BYTE_OFFSET)\n",
    "    size_of_remaining_bytes = int(nwvls * 2 * 2)\n",
    "    if packet[-1] != int.from_bytes(PAD_BYTE):\n",
    "        descriptor = PACKET_HEAD + f\"{size_of_remaining_bytes}H\"\n",
    "    else:\n",
    "        descriptor = PACKET_HEAD + f\"{size_of_remaining_bytes}H\" + 'x'\n",
    "    data = struct.unpack_from(descriptor, packet)\n",
    "    parsed_packet = ParsedPacket(reg_bytes=data[:LEN_REG],\n",
    "                                 record_length=data[LEN_REG + 0],\n",
    "                                 packet_type=data[LEN_REG + 1],\n",
    "                                 reserved_1=data[LEN_REG + 2],\n",
    "                                 serial_number_int=data[LEN_REG + 3],\n",
    "                                 a_reference_dark=data[LEN_REG + 4],\n",
    "                                 pressure_raw=data[LEN_REG + 5],\n",
    "                                 a_signal_dark=data[LEN_REG + 6],\n",
    "                                 external_temperature_raw=data[LEN_REG + 7],\n",
    "                                 internal_temperature_raw=data[LEN_REG + 8],\n",
    "                                 c_reference_dark=data[LEN_REG + 9],\n",
    "                                 c_signal_dark=data[LEN_REG + 10],\n",
    "                                 elapsed_time=data[LEN_REG + 11],\n",
    "                                 reserved_2=data[LEN_REG + 12],\n",
    "                                 number_of_wavelength_bins=data[LEN_REG + 13],\n",
    "                                 c_reference=data[LEN_REG + 14::4],\n",
    "                                 c_signal=data[LEN_REG + 15::4],\n",
    "                                 a_reference=data[LEN_REG + 16::4],\n",
    "                                 a_signal=data[LEN_REG + 17::4],\n",
    "                                 checksum=data[LEN_REG + 13 + (data[LEN_REG + 13] * 4)])\n",
    "    return parsed_packet\n"
   ],
   "id": "d1cb5c40d4fb3e83",
   "outputs": [],
   "execution_count": 4
  },
  {
   "metadata": {
    "ExecuteTime": {
     "end_time": "2024-06-26T16:32:18.382469Z",
     "start_time": "2024-06-26T16:32:18.373514Z"
    }
   },
   "cell_type": "code",
   "source": [
    "parsed_packets = []\n",
    "old_bytes, sep, remaining_bytes = contents.partition(PACKET_REGISTRATION)\n",
    "for i in range(3):\n",
    "    if PACKET_REGISTRATION in remaining_bytes:\n",
    "        dt = datetime.now()\n",
    "        packet_data, next_sep, next_loop_bytes = remaining_bytes.partition(PACKET_REGISTRATION)\n",
    "        packet = sep + packet_data \n",
    "        contents = next_sep + next_loop_bytes # Redefine data.\n",
    "        pad_byte_idx = packet.rfind(PAD_BYTE) # Pad byte index should always represent the last byte in the packet.\n",
    "        checksum = packet[pad_byte_idx-2:pad_byte_idx]  # The checksum is the two bytes that occur before the pad \n",
    "        if np.uint16(sum(packet[:-LEN_CHECK_PAD])) != struct.unpack_from('!H', checksum):\n",
    "            print('Bad Packet')\n",
    "            break\n",
    "        else:\n",
    "            parsed = parse_packet(packet)\n",
    "            parsed_packets.append(parsed)\n",
    "            "
   ],
   "id": "dc26cb72c11cd01c",
   "outputs": [],
   "execution_count": 5
  },
  {
   "metadata": {
    "ExecuteTime": {
     "end_time": "2024-06-26T16:32:18.389573Z",
     "start_time": "2024-06-26T16:32:18.383479Z"
    }
   },
   "cell_type": "code",
   "source": "parsed_packets",
   "id": "4c5f703e789d72c",
   "outputs": [
    {
     "data": {
      "text/plain": [
       "[ParsedPacket(reg_bytes=(b'\\xff', b'\\x00', b'\\xff', b'\\x00'), record_length=648, packet_type=5, reserved_1=1, serial_number_int=1392509097, a_reference_dark=466, pressure_raw=0, a_signal_dark=699, external_temperature_raw=40409, internal_temperature_raw=51059, c_reference_dark=477, c_signal_dark=712, elapsed_time=408053953, reserved_2=1, number_of_wavelength_bins=77, c_reference=(419, 492, 567, 650, 745, 849, 964, 1099, 1247, 1415, 1597, 1792, 2002, 2226, 2461, 2715, 2991, 3298, 3618, 3969, 4345, 4749, 5170, 5604, 6052, 6520, 6980, 7439, 7911, 8404, 8931, 9497, 10107, 10744, 11383, 12022, 12636, 13232, 13799, 14350, 14895, 15424, 15895, 16450, 16880, 17279, 17612, 17909, 18150, 18319, 18436, 18477, 18451, 18371, 18227, 18033, 17754, 17436, 17105, 16729, 16313, 15829, 15282, 14680, 14030, 13360, 12696, 12012, 11337, 10665, 10002, 9359, 8719, 8107, 7541, 7011, 6492), c_signal=(641, 745, 838, 936, 1046, 1163, 1293, 1443, 1604, 1791, 1990, 2198, 2421, 2656, 2894, 3157, 3443, 3755, 4091, 4449, 4832, 5243, 5660, 6096, 6552, 7003, 7452, 7900, 8359, 8843, 9360, 9911, 10511, 11130, 11758, 12379, 12976, 13548, 14092, 14613, 15136, 15635, 16069, 16624, 17019, 17378, 17675, 17923, 18109, 18233, 18300, 18289, 18223, 18092, 17909, 17675, 17356, 17012, 16653, 16245, 15797, 15285, 14705, 14077, 13416, 12738, 12072, 11388, 10713, 10056, 9405, 8778, 8166, 7581, 7050, 6533, 5844), a_reference=(337, 392, 448, 509, 580, 655, 741, 840, 952, 1073, 1212, 1359, 1515, 1686, 1864, 2059, 2266, 2506, 2752, 3021, 3317, 3633, 3965, 4308, 4664, 5039, 5407, 5775, 6159, 6557, 6983, 7447, 7940, 8467, 8999, 9529, 10047, 10548, 11033, 11491, 11943, 12377, 12752, 13132, 13426, 13688, 13905, 14104, 14306, 14450, 14567, 14623, 14620, 14580, 14480, 14345, 14131, 13860, 13576, 13263, 12925, 12554, 12117, 11626, 11086, 10507, 9914, 9295, 8647, 8000, 7323, 6654, 5974, 5297, 4656, 4070, 3552), a_signal=(436, 539, 631, 732, 842, 960, 1091, 1244, 1409, 1603, 1812, 2037, 2280, 2541, 2812, 3110, 3442, 3803, 4198, 4622, 5081, 5578, 6086, 6624, 7189, 7755, 8330, 8909, 9512, 10154, 10841, 11574, 12372, 13200, 14040, 14885, 15705, 16504, 17271, 17999, 18723, 19398, 19976, 20668, 21129, 21530, 21881, 22219, 22508, 22738, 22896, 22963, 22956, 22869, 22702, 22450, 22066, 21621, 21146, 20625, 20064, 19433, 18709, 17917, 17054, 16135, 15190, 14183, 13155, 12111, 11037, 9969, 8898, 7843, 6877, 6002, 5092), checksum=5092),\n",
       " ParsedPacket(reg_bytes=(b'\\xff', b'\\x00', b'\\xff', b'\\x00'), record_length=648, packet_type=5, reserved_1=1, serial_number_int=1392509097, a_reference_dark=466, pressure_raw=0, a_signal_dark=699, external_temperature_raw=40409, internal_temperature_raw=51059, c_reference_dark=477, c_signal_dark=712, elapsed_time=408053953, reserved_2=1, number_of_wavelength_bins=77, c_reference=(419, 492, 567, 650, 745, 849, 964, 1099, 1247, 1415, 1597, 1792, 2002, 2226, 2461, 2715, 2991, 3298, 3618, 3969, 4345, 4749, 5170, 5604, 6052, 6520, 6980, 7439, 7911, 8404, 8931, 9497, 10107, 10744, 11383, 12022, 12636, 13232, 13799, 14350, 14895, 15424, 15895, 16450, 16880, 17279, 17612, 17909, 18150, 18319, 18436, 18477, 18451, 18371, 18227, 18033, 17754, 17436, 17105, 16729, 16313, 15829, 15282, 14680, 14030, 13360, 12696, 12012, 11337, 10665, 10002, 9359, 8719, 8107, 7541, 7011, 6492), c_signal=(641, 745, 838, 936, 1046, 1163, 1293, 1443, 1604, 1791, 1990, 2198, 2421, 2656, 2894, 3157, 3443, 3755, 4091, 4449, 4832, 5243, 5660, 6096, 6552, 7003, 7452, 7900, 8359, 8843, 9360, 9911, 10511, 11130, 11758, 12379, 12976, 13548, 14092, 14613, 15136, 15635, 16069, 16624, 17019, 17378, 17675, 17923, 18109, 18233, 18300, 18289, 18223, 18092, 17909, 17675, 17356, 17012, 16653, 16245, 15797, 15285, 14705, 14077, 13416, 12738, 12072, 11388, 10713, 10056, 9405, 8778, 8166, 7581, 7050, 6533, 5844), a_reference=(337, 392, 448, 509, 580, 655, 741, 840, 952, 1073, 1212, 1359, 1515, 1686, 1864, 2059, 2266, 2506, 2752, 3021, 3317, 3633, 3965, 4308, 4664, 5039, 5407, 5775, 6159, 6557, 6983, 7447, 7940, 8467, 8999, 9529, 10047, 10548, 11033, 11491, 11943, 12377, 12752, 13132, 13426, 13688, 13905, 14104, 14306, 14450, 14567, 14623, 14620, 14580, 14480, 14345, 14131, 13860, 13576, 13263, 12925, 12554, 12117, 11626, 11086, 10507, 9914, 9295, 8647, 8000, 7323, 6654, 5974, 5297, 4656, 4070, 3552), a_signal=(436, 539, 631, 732, 842, 960, 1091, 1244, 1409, 1603, 1812, 2037, 2280, 2541, 2812, 3110, 3442, 3803, 4198, 4622, 5081, 5578, 6086, 6624, 7189, 7755, 8330, 8909, 9512, 10154, 10841, 11574, 12372, 13200, 14040, 14885, 15705, 16504, 17271, 17999, 18723, 19398, 19976, 20668, 21129, 21530, 21881, 22219, 22508, 22738, 22896, 22963, 22956, 22869, 22702, 22450, 22066, 21621, 21146, 20625, 20064, 19433, 18709, 17917, 17054, 16135, 15190, 14183, 13155, 12111, 11037, 9969, 8898, 7843, 6877, 6002, 5092), checksum=5092),\n",
       " ParsedPacket(reg_bytes=(b'\\xff', b'\\x00', b'\\xff', b'\\x00'), record_length=648, packet_type=5, reserved_1=1, serial_number_int=1392509097, a_reference_dark=466, pressure_raw=0, a_signal_dark=699, external_temperature_raw=40409, internal_temperature_raw=51059, c_reference_dark=477, c_signal_dark=712, elapsed_time=408053953, reserved_2=1, number_of_wavelength_bins=77, c_reference=(419, 492, 567, 650, 745, 849, 964, 1099, 1247, 1415, 1597, 1792, 2002, 2226, 2461, 2715, 2991, 3298, 3618, 3969, 4345, 4749, 5170, 5604, 6052, 6520, 6980, 7439, 7911, 8404, 8931, 9497, 10107, 10744, 11383, 12022, 12636, 13232, 13799, 14350, 14895, 15424, 15895, 16450, 16880, 17279, 17612, 17909, 18150, 18319, 18436, 18477, 18451, 18371, 18227, 18033, 17754, 17436, 17105, 16729, 16313, 15829, 15282, 14680, 14030, 13360, 12696, 12012, 11337, 10665, 10002, 9359, 8719, 8107, 7541, 7011, 6492), c_signal=(641, 745, 838, 936, 1046, 1163, 1293, 1443, 1604, 1791, 1990, 2198, 2421, 2656, 2894, 3157, 3443, 3755, 4091, 4449, 4832, 5243, 5660, 6096, 6552, 7003, 7452, 7900, 8359, 8843, 9360, 9911, 10511, 11130, 11758, 12379, 12976, 13548, 14092, 14613, 15136, 15635, 16069, 16624, 17019, 17378, 17675, 17923, 18109, 18233, 18300, 18289, 18223, 18092, 17909, 17675, 17356, 17012, 16653, 16245, 15797, 15285, 14705, 14077, 13416, 12738, 12072, 11388, 10713, 10056, 9405, 8778, 8166, 7581, 7050, 6533, 5844), a_reference=(337, 392, 448, 509, 580, 655, 741, 840, 952, 1073, 1212, 1359, 1515, 1686, 1864, 2059, 2266, 2506, 2752, 3021, 3317, 3633, 3965, 4308, 4664, 5039, 5407, 5775, 6159, 6557, 6983, 7447, 7940, 8467, 8999, 9529, 10047, 10548, 11033, 11491, 11943, 12377, 12752, 13132, 13426, 13688, 13905, 14104, 14306, 14450, 14567, 14623, 14620, 14580, 14480, 14345, 14131, 13860, 13576, 13263, 12925, 12554, 12117, 11626, 11086, 10507, 9914, 9295, 8647, 8000, 7323, 6654, 5974, 5297, 4656, 4070, 3552), a_signal=(436, 539, 631, 732, 842, 960, 1091, 1244, 1409, 1603, 1812, 2037, 2280, 2541, 2812, 3110, 3442, 3803, 4198, 4622, 5081, 5578, 6086, 6624, 7189, 7755, 8330, 8909, 9512, 10154, 10841, 11574, 12372, 13200, 14040, 14885, 15705, 16504, 17271, 17999, 18723, 19398, 19976, 20668, 21129, 21530, 21881, 22219, 22508, 22738, 22896, 22963, 22956, 22869, 22702, 22450, 22066, 21621, 21146, 20625, 20064, 19433, 18709, 17917, 17054, 16135, 15190, 14183, 13155, 12111, 11037, 9969, 8898, 7843, 6877, 6002, 5092), checksum=5092)]"
      ]
     },
     "execution_count": 6,
     "metadata": {},
     "output_type": "execute_result"
    }
   ],
   "execution_count": 6
  },
  {
   "metadata": {
    "ExecuteTime": {
     "end_time": "2024-06-26T16:32:18.447199Z",
     "start_time": "2024-06-26T16:32:18.389573Z"
    }
   },
   "cell_type": "code",
   "source": [
    "ncfp = \"C:/Users\\Ian\\projects/acpype/tests/test_data\\deployment0001_CE02SHBP-LJ01D-08-OPTAAD106-streamed-optaa_sample_20140925T182900-20141118T095959.nc\"\n",
    "ds = xr.open_dataset(ncfp)"
   ],
   "id": "149ccef57939ff0",
   "outputs": [],
   "execution_count": 7
  },
  {
   "metadata": {
    "ExecuteTime": {
     "end_time": "2024-06-26T16:32:18.626757Z",
     "start_time": "2024-06-26T16:32:18.447709Z"
    }
   },
   "cell_type": "code",
   "source": "test = ds.where(ds.elapsed_run_time == 408053953, drop = True)",
   "id": "c3a6981b0f4a521",
   "outputs": [],
   "execution_count": 8
  },
  {
   "metadata": {
    "ExecuteTime": {
     "end_time": "2024-06-26T16:32:18.630619Z",
     "start_time": "2024-06-26T16:32:18.627004Z"
    }
   },
   "cell_type": "code",
   "source": "nc_parse = test.a_signal_counts",
   "id": "b0d1de037229c277",
   "outputs": [],
   "execution_count": 9
  },
  {
   "metadata": {
    "ExecuteTime": {
     "end_time": "2024-06-26T16:32:18.638703Z",
     "start_time": "2024-06-26T16:32:18.631631Z"
    }
   },
   "cell_type": "code",
   "source": "my_parse = parsed_packets[0]",
   "id": "2eba112d81ad37ab",
   "outputs": [],
   "execution_count": 10
  },
  {
   "metadata": {
    "ExecuteTime": {
     "end_time": "2024-06-26T16:32:18.655402Z",
     "start_time": "2024-06-26T16:32:18.638703Z"
    }
   },
   "cell_type": "code",
   "source": [
    "for i in range(len(my_parse.a_signal)):\n",
    "    print(my_parse.a_signal[i],nc_parse[0].values[i], my_parse.a_signal[i] ==nc_parse[0].values[i])"
   ],
   "id": "df64a15d4b48818c",
   "outputs": [
    {
     "name": "stdout",
     "output_type": "stream",
     "text": [
      "436 436.0 True\n",
      "539 539.0 True\n",
      "631 631.0 True\n",
      "732 732.0 True\n",
      "842 842.0 True\n",
      "960 960.0 True\n",
      "1091 1091.0 True\n",
      "1244 1244.0 True\n",
      "1409 1409.0 True\n",
      "1603 1603.0 True\n",
      "1812 1812.0 True\n",
      "2037 2037.0 True\n",
      "2280 2280.0 True\n",
      "2541 2541.0 True\n",
      "2812 2812.0 True\n",
      "3110 3110.0 True\n",
      "3442 3442.0 True\n",
      "3803 3803.0 True\n",
      "4198 4198.0 True\n",
      "4622 4622.0 True\n",
      "5081 5081.0 True\n",
      "5578 5578.0 True\n",
      "6086 6086.0 True\n",
      "6624 6624.0 True\n",
      "7189 7189.0 True\n",
      "7755 7755.0 True\n",
      "8330 8330.0 True\n",
      "8909 8909.0 True\n",
      "9512 9512.0 True\n",
      "10154 10154.0 True\n",
      "10841 10841.0 True\n",
      "11574 11574.0 True\n",
      "12372 12372.0 True\n",
      "13200 13200.0 True\n",
      "14040 14040.0 True\n",
      "14885 14885.0 True\n",
      "15705 15705.0 True\n",
      "16504 16504.0 True\n",
      "17271 17271.0 True\n",
      "17999 17999.0 True\n",
      "18723 18723.0 True\n",
      "19398 19398.0 True\n",
      "19976 19976.0 True\n",
      "20668 20668.0 True\n",
      "21129 21129.0 True\n",
      "21530 21530.0 True\n",
      "21881 21881.0 True\n",
      "22219 22219.0 True\n",
      "22508 22508.0 True\n",
      "22738 22738.0 True\n",
      "22896 22896.0 True\n",
      "22963 22963.0 True\n",
      "22956 22956.0 True\n",
      "22869 22869.0 True\n",
      "22702 22702.0 True\n",
      "22450 22450.0 True\n",
      "22066 22066.0 True\n",
      "21621 21621.0 True\n",
      "21146 21146.0 True\n",
      "20625 20625.0 True\n",
      "20064 20064.0 True\n",
      "19433 19433.0 True\n",
      "18709 18709.0 True\n",
      "17917 17917.0 True\n",
      "17054 17054.0 True\n",
      "16135 16135.0 True\n",
      "15190 15190.0 True\n",
      "14183 14183.0 True\n",
      "13155 13155.0 True\n",
      "12111 12111.0 True\n",
      "11037 11037.0 True\n",
      "9969 9969.0 True\n",
      "8898 8898.0 True\n",
      "7843 7843.0 True\n",
      "6877 6877.0 True\n",
      "6002 6002.0 True\n",
      "5092 5092.0 True\n"
     ]
    }
   ],
   "execution_count": 11
  },
  {
   "metadata": {
    "ExecuteTime": {
     "end_time": "2024-06-26T16:32:18.659418Z",
     "start_time": "2024-06-26T16:32:18.656411Z"
    }
   },
   "cell_type": "code",
   "source": "",
   "id": "dbc1f2350510e01b",
   "outputs": [],
   "execution_count": 11
  }
 ],
 "metadata": {
  "kernelspec": {
   "display_name": "Python 3",
   "language": "python",
   "name": "python3"
  },
  "language_info": {
   "codemirror_mode": {
    "name": "ipython",
    "version": 2
   },
   "file_extension": ".py",
   "mimetype": "text/x-python",
   "name": "python",
   "nbconvert_exporter": "python",
   "pygments_lexer": "ipython2",
   "version": "2.7.6"
  }
 },
 "nbformat": 4,
 "nbformat_minor": 5
}
