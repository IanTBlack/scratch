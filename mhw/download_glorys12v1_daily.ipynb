{
 "cells": [
  {
   "metadata": {},
   "cell_type": "markdown",
   "source": "# Setup",
   "id": "d5fdf92aa8c209e6"
  },
  {
   "metadata": {
    "ExecuteTime": {
     "end_time": "2024-08-17T22:58:11.222765Z",
     "start_time": "2024-08-17T22:58:11.217386Z"
    }
   },
   "cell_type": "code",
   "source": "#!pip install copernicusmarine",
   "id": "f458cf0f1b7fb962",
   "outputs": [],
   "execution_count": 1
  },
  {
   "metadata": {
    "ExecuteTime": {
     "end_time": "2024-08-17T22:58:12.953062Z",
     "start_time": "2024-08-17T22:58:11.224775Z"
    }
   },
   "cell_type": "code",
   "source": [
    "import copernicusmarine as cm  \n",
    "from datetime import datetime\n",
    "from netrc import netrc\n",
    "import os"
   ],
   "id": "initial_id",
   "outputs": [],
   "execution_count": 2
  },
  {
   "metadata": {},
   "cell_type": "markdown",
   "source": [
    "## Import Copernicus Marine Credentials\n",
    "\n",
    "It is recommended that you add your Copernicus Marine credentials to a .netrc file in your user home directory so that you don't mistakenly add them to a public notebook or script.\n",
    "For the cell below to work, the .netrc entry is\n",
    "\n",
    "```\n",
    "machine marine.copernicus.eu\n",
    "login my-copernicus-marine-username-here\n",
    "password my-copernicus-marine-password-here\n",
    "```"
   ],
   "id": "6f084a4d70be4482"
  },
  {
   "metadata": {
    "ExecuteTime": {
     "end_time": "2024-08-17T22:58:12.957609Z",
     "start_time": "2024-08-17T22:58:12.953062Z"
    }
   },
   "cell_type": "code",
   "source": "u,_,p = netrc().authenticators(host = 'marine.copernicus.eu')",
   "id": "d21e44f19dfdd89",
   "outputs": [],
   "execution_count": 3
  },
  {
   "metadata": {},
   "cell_type": "markdown",
   "source": "## Helper Functions",
   "id": "f78e9f5198c61d3f"
  },
  {
   "metadata": {
    "ExecuteTime": {
     "end_time": "2024-08-17T22:58:12.971970Z",
     "start_time": "2024-08-17T22:58:12.958624Z"
    }
   },
   "cell_type": "code",
   "source": [
    "def download_glorys12v1_daily(years: list, \n",
    "                              copernicus_username: str, \n",
    "                              copernicus_password: str, \n",
    "                              longitude_range: list = [-180,180], \n",
    "                              latitude_range: list = [-90,90], \n",
    "                              depth_range: list = [0,10000], \n",
    "                              variables: list = ['thetao','bottomT'], \n",
    "                              filename_prefix: str = 'GLORYS12v1', \n",
    "                              filetype: str = 'nc', \n",
    "                              save_dir = os.getcwd()) -> None:\n",
    "    \"\"\"\n",
    "    Subset and download GLORYS12v1 data into annual files.\n",
    "    \n",
    "    :param years: A list of years of interest.\n",
    "    :param copernicus_username: Your Copernicus Marine username.\n",
    "    :param copernicus_password: You Copernicus Marine password.\n",
    "    :param longitude_range: The span of longitudes you want data for.\n",
    "    :param latitude_range: The span of latitudes you want data for.\n",
    "    :param depth_range: The span od depths you want data for.\n",
    "    :param variables: The variables in the file that you want subset.\n",
    "    :param filename_prefix: The prefix for the filename. Each file will automatically have GLORYS12v1_YYYY appended, where YYYY is the year.\n",
    "    :param filetype: nc or zarr\n",
    "    :param save_dir: The location you want to save data.\n",
    "    :return: None\n",
    "    \"\"\"\n",
    "    for year in years:\n",
    "        bdt = datetime(year,1,1,0,0,0)\n",
    "        edt = datetime(year,12,31,23,59,59)\n",
    "        if 'nc' in filetype:\n",
    "            fn = f'{filename_prefix}_GLORYS12v1_{year}.nc'\n",
    "        elif 'zarr' in filetype:\n",
    "            fn = f'{filename_prefix}_GLORYS12v1_{year}.zarr'\n",
    "        else:\n",
    "            fn = f'{filename_prefix}_GLORYS12v1_{year}.{filetype}'\n",
    "        if year < 2021:\n",
    "            cm.subset(dataset_id = 'cmems_mod_glo_phy_my_0.083deg_P1D-m', \n",
    "                      variables = variables,\n",
    "                      minimum_longitude = min(longitude_range),\n",
    "                      maximum_longitude = max(longitude_range),\n",
    "                      minimum_latitude = min(latitude_range),\n",
    "                      maximum_latitude = max(latitude_range),\n",
    "                      start_datetime = bdt.strftime('%Y-%m-%dT%H:%M:%S'),\n",
    "                      end_datetime = edt.strftime('%Y-%m-%dT%H:%M:%S'),\n",
    "                      minimum_depth = min(depth_range),\n",
    "                      maximum_depth = max(depth_range),\n",
    "                      output_filename=fn,\n",
    "                      output_directory=save_dir,\n",
    "                      username = copernicus_username,\n",
    "                      password = copernicus_password,\n",
    "                      force_download = True,\n",
    "                      )\n",
    "        elif year == 2021:\n",
    "            new_fn = fn.replace('2021','2021A')\n",
    "            cm.subset(dataset_id = 'cmems_mod_glo_phy_my_0.083deg_P1D-m', \n",
    "                      variables = variables,\n",
    "                      minimum_longitude = min(longitude),\n",
    "                      maximum_longitude = max(longitude),\n",
    "                      minimum_latitude = min(latitude),\n",
    "                      maximum_latitude = max(latitude),\n",
    "                      start_datetime = bdt.strftime('%Y-%m-%dT%H:%M:%S'),\n",
    "                      end_datetime = edt.strftime('%Y-%m-%dT%H:%M:%S'),\n",
    "                      minimum_depth = min(depth),\n",
    "                      maximum_depth = max(depth),\n",
    "                      output_filename=new_fn,\n",
    "                      output_directory=save_dir,\n",
    "                      username = copernicus_username,\n",
    "                      password = copernicus_password,\n",
    "                      force_download = True,\n",
    "                      )\n",
    "            new_fn = fn.replace('2021','2021B')\n",
    "            cm.subset(dataset_id = 'cmems_mod_glo_phy_myint_0.083deg_P1D-m', \n",
    "                      variables = variables,\n",
    "                      minimum_longitude = min(longitude),\n",
    "                      maximum_longitude = max(longitude),\n",
    "                      minimum_latitude = min(latitude),\n",
    "                      maximum_latitude = max(latitude),\n",
    "                      start_datetime = bdt.strftime('%Y-%m-%dT%H:%M:%S'),\n",
    "                      end_datetime = edt.strftime('%Y-%m-%dT%H:%M:%S'),\n",
    "                      minimum_depth = min(depth),\n",
    "                      maximum_depth = max(depth),\n",
    "                      output_filename=new_fn,\n",
    "                      output_directory=save_dir,\n",
    "                      username = copernicus_username,\n",
    "                      password = copernicus_password,\n",
    "                      force_download = True,\n",
    "                      )\n",
    "        elif year > 2021:\n",
    "            cm.subset(dataset_id = 'cmems_mod_glo_phy_myint_0.083deg_P1D-m', \n",
    "                      variables = variables,\n",
    "                      minimum_longitude = min(longitude),\n",
    "                      maximum_longitude = max(longitude),\n",
    "                      minimum_latitude = min(latitude),\n",
    "                      maximum_latitude = max(latitude),\n",
    "                      start_datetime = bdt.strftime('%Y-%m-%dT%H:%M:%S'),\n",
    "                      end_datetime = edt.strftime('%Y-%m-%dT%H:%M:%S'),\n",
    "                      minimum_depth = min(depth),\n",
    "                      maximum_depth = max(depth),\n",
    "                      output_filename=fn,\n",
    "                      output_directory=save_dir,\n",
    "                      username = copernicus_username,\n",
    "                      password = copernicus_password,\n",
    "                      force_download = True,\n",
    "                      )"
   ],
   "id": "e7b1382d6729dbd3",
   "outputs": [],
   "execution_count": 4
  },
  {
   "metadata": {},
   "cell_type": "markdown",
   "source": "# Download GLORYS12v1 Model Output",
   "id": "e28b0fdcc8d77b54"
  },
  {
   "metadata": {
    "ExecuteTime": {
     "end_time": "2024-08-17T22:58:12.977970Z",
     "start_time": "2024-08-17T22:58:12.973985Z"
    }
   },
   "cell_type": "code",
   "source": [
    "years = range(2020,2023)\n",
    "variables = ['thetao','bottomT']   #['thetao','so','uo','vo','mlotst','bottomT']\n",
    "longitude = [-175,-120]\n",
    "latitude = [25,80]\n",
    "depth = [0,1]\n",
    "filename_prefix = 'NEP'\n",
    "filetype = 'nc'\n",
    "save_dir = 'C:/Users/Ian/projects/scratch/test_data'"
   ],
   "id": "f705eda9421d5e4d",
   "outputs": [],
   "execution_count": 5
  },
  {
   "metadata": {
    "ExecuteTime": {
     "end_time": "2024-08-17T23:02:48.510394Z",
     "start_time": "2024-08-17T22:58:12.978977Z"
    }
   },
   "cell_type": "code",
   "source": [
    "download_glorys12v1_daily(years = years,\n",
    "                          latitude_range = latitude,\n",
    "                          longitude_range = longitude,\n",
    "                          depth_range = depth,\n",
    "                          variables = variables,\n",
    "                          filename_prefix = filename_prefix,\n",
    "                          filetype = filetype,\n",
    "                          save_dir = save_dir,\n",
    "                          copernicus_username = u,\n",
    "                          copernicus_password = p\n",
    "                          )"
   ],
   "id": "7f77d5b0e19bc153",
   "outputs": [
    {
     "name": "stderr",
     "output_type": "stream",
     "text": [
      "INFO - 2024-08-17T22:58:14Z - Dataset version was not specified, the latest one was selected: \"202311\"\n",
      "INFO - 2024-08-17T22:58:14Z - Dataset part was not specified, the first one was selected: \"default\"\n",
      "INFO - 2024-08-17T22:58:17Z - Service was not specified, the default one was selected: \"arco-geo-series\"\n",
      "INFO - 2024-08-17T22:58:21Z - Downloading using service arco-geo-series...\n",
      "INFO - 2024-08-17T22:58:32Z - Estimated size of the dataset file is 2441.421 MB.\n",
      "INFO - 2024-08-17T22:58:32Z - Writing to local storage. Please wait...\n"
     ]
    },
    {
     "data": {
      "text/plain": [
       "  0%|          | 0/8054 [00:00<?, ?it/s]"
      ],
      "application/vnd.jupyter.widget-view+json": {
       "version_major": 2,
       "version_minor": 0,
       "model_id": "17c8ee59870640789590f155cf33f6de"
      }
     },
     "metadata": {},
     "output_type": "display_data"
    },
    {
     "name": "stderr",
     "output_type": "stream",
     "text": [
      "INFO - 2024-08-17T22:59:48Z - Successfully downloaded to C:\\Users\\Ian\\projects\\scratch\\test_data\\NEP_GLORYS12v1_2020.nc\n",
      "INFO - 2024-08-17T22:59:49Z - Dataset version was not specified, the latest one was selected: \"202311\"\n",
      "INFO - 2024-08-17T22:59:49Z - Dataset part was not specified, the first one was selected: \"default\"\n",
      "INFO - 2024-08-17T22:59:53Z - Service was not specified, the default one was selected: \"arco-geo-series\"\n",
      "WARNING - 2024-08-17T22:59:56Z - Some or all of your subset selection [2021-01-01 00:00:00, 2021-12-31 23:59:59] for the time dimension  exceed the dataset coordinates [1993-01-01 00:00:00, 2021-06-30 00:00:00]\n",
      "INFO - 2024-08-17T22:59:56Z - Downloading using service arco-geo-series...\n",
      "INFO - 2024-08-17T23:00:11Z - Estimated size of the dataset file is 1207.369 MB.\n",
      "INFO - 2024-08-17T23:00:11Z - Writing to local storage. Please wait...\n"
     ]
    },
    {
     "data": {
      "text/plain": [
       "  0%|          | 0/3984 [00:00<?, ?it/s]"
      ],
      "application/vnd.jupyter.widget-view+json": {
       "version_major": 2,
       "version_minor": 0,
       "model_id": "b12a261e5a3943debf6532f0c78a8733"
      }
     },
     "metadata": {},
     "output_type": "display_data"
    },
    {
     "name": "stderr",
     "output_type": "stream",
     "text": [
      "INFO - 2024-08-17T23:00:54Z - Successfully downloaded to C:\\Users\\Ian\\projects\\scratch\\test_data\\NEP_GLORYS12v1_2021A.nc\n",
      "INFO - 2024-08-17T23:00:56Z - Dataset version was not specified, the latest one was selected: \"202311\"\n",
      "INFO - 2024-08-17T23:00:56Z - Dataset part was not specified, the first one was selected: \"default\"\n",
      "INFO - 2024-08-17T23:01:00Z - Service was not specified, the default one was selected: \"arco-time-series\"\n",
      "WARNING - 2024-08-17T23:01:03Z - Some or all of your subset selection [2021-01-01 00:00:00, 2021-12-31 23:59:59] for the time dimension  exceed the dataset coordinates [2021-07-01 00:00:00, 2024-04-23 00:00:00]\n",
      "INFO - 2024-08-17T23:01:03Z - Downloading using service arco-time-series...\n",
      "INFO - 2024-08-17T23:01:08Z - Estimated size of the dataset file is 1227.381 MB.\n",
      "INFO - 2024-08-17T23:01:08Z - Writing to local storage. Please wait...\n"
     ]
    },
    {
     "data": {
      "text/plain": [
       "  0%|          | 0/8566 [00:00<?, ?it/s]"
      ],
      "application/vnd.jupyter.widget-view+json": {
       "version_major": 2,
       "version_minor": 0,
       "model_id": "cb94d96e3d2c4f36b96ad79593a5be61"
      }
     },
     "metadata": {},
     "output_type": "display_data"
    },
    {
     "name": "stderr",
     "output_type": "stream",
     "text": [
      "INFO - 2024-08-17T23:01:42Z - Successfully downloaded to C:\\Users\\Ian\\projects\\scratch\\test_data\\NEP_GLORYS12v1_2021B.nc\n",
      "INFO - 2024-08-17T23:01:43Z - Dataset version was not specified, the latest one was selected: \"202311\"\n",
      "INFO - 2024-08-17T23:01:43Z - Dataset part was not specified, the first one was selected: \"default\"\n",
      "INFO - 2024-08-17T23:01:47Z - Service was not specified, the default one was selected: \"arco-time-series\"\n",
      "INFO - 2024-08-17T23:01:51Z - Downloading using service arco-time-series...\n",
      "INFO - 2024-08-17T23:01:56Z - Estimated size of the dataset file is 2434.751 MB.\n",
      "INFO - 2024-08-17T23:01:56Z - Writing to local storage. Please wait...\n"
     ]
    },
    {
     "data": {
      "text/plain": [
       "  0%|          | 0/16560 [00:00<?, ?it/s]"
      ],
      "application/vnd.jupyter.widget-view+json": {
       "version_major": 2,
       "version_minor": 0,
       "model_id": "5364a930847046a68fecdbc662e86d4c"
      }
     },
     "metadata": {},
     "output_type": "display_data"
    },
    {
     "name": "stderr",
     "output_type": "stream",
     "text": [
      "INFO - 2024-08-17T23:02:48Z - Successfully downloaded to C:\\Users\\Ian\\projects\\scratch\\test_data\\NEP_GLORYS12v1_2022_(1).nc\n"
     ]
    }
   ],
   "execution_count": 6
  }
 ],
 "metadata": {
  "kernelspec": {
   "display_name": "Python 3",
   "language": "python",
   "name": "python3"
  },
  "language_info": {
   "codemirror_mode": {
    "name": "ipython",
    "version": 2
   },
   "file_extension": ".py",
   "mimetype": "text/x-python",
   "name": "python",
   "nbconvert_exporter": "python",
   "pygments_lexer": "ipython2",
   "version": "2.7.6"
  }
 },
 "nbformat": 4,
 "nbformat_minor": 5
}
