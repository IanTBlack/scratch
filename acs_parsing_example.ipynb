{
 "cells": [
  {
   "cell_type": "code",
   "execution_count": 1,
   "outputs": [],
   "source": [
    "from datetime import datetime, timezone\n",
    "import serial\n",
    "import struct\n",
    "import numpy as np\n",
    "from typing import NamedTuple"
   ],
   "metadata": {
    "collapsed": false,
    "ExecuteTime": {
     "end_time": "2024-02-08T05:51:11.453336900Z",
     "start_time": "2024-02-08T05:51:11.384979900Z"
    }
   },
   "id": "37d9ca2ce10a5254"
  },
  {
   "cell_type": "code",
   "execution_count": 2,
   "outputs": [],
   "source": [
    "PORT = 'COM255'\n",
    "BAUDRATE = 115200\n",
    "TIMEOUT = 1"
   ],
   "metadata": {
    "collapsed": false,
    "ExecuteTime": {
     "end_time": "2024-02-08T05:51:11.458719400Z",
     "start_time": "2024-02-08T05:51:11.455711400Z"
    }
   },
   "id": "7d39a105585be3f0"
  },
  {
   "cell_type": "code",
   "execution_count": 3,
   "outputs": [],
   "source": [
    "class FLAGS:\n",
    "    \"\"\"QARTOD-ESQUE FLAGS\"\"\"\n",
    "    PASS: int = 1\n",
    "    NOT_EVALUATED: int = 2\n",
    "    SUSPECT: int = 3\n",
    "    FAIL: int = 4\n",
    "    MISSING_DATA: int = 9\n",
    "\n",
    "@staticmethod\n",
    "def syntax_test(packet, record_length):\n",
    "    \"\"\"\n",
    "    This syntax test is specific to the ACS and its quirks. It should satisfy QARTOD requirements based on the description for the syntax test of other parameters.\n",
    "    \n",
    "    :param packet: The full packet from the ACS, including registration bytes, the checksum, and pad byte.\n",
    "    :param record_length: The record length reported by the ACS.\n",
    "    :return: FAIL if the packet length and checksum does-not-equal checks are True. PASS if the does-not-equal checks are False.\n",
    "    \"\"\"\n",
    "    PAD_BYTE = b'\\x00'\n",
    "    pad_byte_idx = packet.rfind(PAD_BYTE) # Pad byte index should always represent the last byte in the packet.\n",
    "    checksum = packet[pad_byte_idx-2:pad_byte_idx]  # The checksum is the two bytes that occur before the pad \n",
    "    if len(packet) != record_length + 3:  # The record_length output with each packet does not account for the checksum and pad byte, so add 3 bytes to the record_length.\n",
    "        return FLAGS.FAIL\n",
    "    elif np.array(sum(packet[:-3])).astype(np.uint16) != struct.unpack_from('!H', checksum): # Taken from Inlinino. Verifies the checksum.\n",
    "        return FLAGS.FAIL\n",
    "    else:\n",
    "        return FLAGS.PASS\n",
    "    \n",
    "class RawPacket(NamedTuple):\n",
    "    \"\"\"Container for a raw packet.\"\"\"\n",
    "    record_length: int\n",
    "    packet_type: int\n",
    "    reserved_1: int\n",
    "    serial_number_hexdec: int\n",
    "    a_reference_dark: int\n",
    "    pressure_counts: int\n",
    "    a_signal_dark: int\n",
    "    raw_external_temp: int\n",
    "    raw_internal_temp: int\n",
    "    c_reference_dark: int\n",
    "    c_signal_dark: int\n",
    "    elapsed_time: int\n",
    "    reserved_2: int\n",
    "    number_of_output_wavelengths: int\n",
    "    c_reference: list\n",
    "    a_reference: list\n",
    "    c_signal: list\n",
    "    a_signal: list    "
   ],
   "metadata": {
    "collapsed": false,
    "ExecuteTime": {
     "end_time": "2024-02-08T05:51:11.465360Z",
     "start_time": "2024-02-08T05:51:11.459718400Z"
    }
   },
   "id": "7c2a80e9548b760f"
  },
  {
   "cell_type": "code",
   "execution_count": 4,
   "outputs": [],
   "source": [
    "PACKET_REGISTRATION = b'\\xff\\x00\\xff\\x00'\n",
    "PAD_BYTE = b'\\x00'\n",
    "PACKET_HEAD = '!4cHBBl7HIBB'\n",
    "PACKET_TAIL = 'Hx'\n",
    "LEN_PREDEFINED = struct.calcsize(PACKET_HEAD + PACKET_TAIL)"
   ],
   "metadata": {
    "collapsed": false,
    "ExecuteTime": {
     "end_time": "2024-02-08T05:51:11.469310300Z",
     "start_time": "2024-02-08T05:51:11.467306500Z"
    }
   },
   "id": "da53c5d20ce05b30"
  },
  {
   "cell_type": "code",
   "execution_count": 5,
   "outputs": [],
   "source": [
    "sample_num = 0\n",
    "buffer = bytearray()\n",
    "sample_dict = {}\n",
    "with serial.Serial(port = PORT, baudrate = BAUDRATE, timeout = TIMEOUT) as rs:\n",
    "    rs.reset_output_buffer()\n",
    "    rs.reset_input_buffer()\n",
    "    while True:\n",
    "        if sample_num == 10:  # If we have taken 10 samples, exit the while loop.\n",
    "            break\n",
    "        buffer.extend(rs.read(rs.in_waiting))\n",
    "        old_bytes, sep, remaining_bytes = buffer.partition(PACKET_REGISTRATION)\n",
    "        if PACKET_REGISTRATION in remaining_bytes:\n",
    "            dt = datetime.now(timezone.utc)\n",
    "            packet_data, next_sep, next_loop_bytes = remaining_bytes.partition(PACKET_REGISTRATION)\n",
    "            packet = sep + packet_data\n",
    "            buffer = next_sep + next_loop_bytes # Redefine buffer.\n",
    "            pad_byte_idx = packet.rfind(PAD_BYTE) # Pad byte index should always represent the last byte in the packet.\n",
    "            checksum = packet[pad_byte_idx-2:pad_byte_idx]  # The checksum is the two bytes that occur before the pad \n",
    "\n",
    "            # Option 1: Use the size of the PACKET HEAD and PACKET TAIL removed from the total packet length to get the descriptor.\n",
    "            size_of_remaining_bytes = int((len(packet) - LEN_PREDEFINED)/2)\n",
    "            descriptor1 = PACKET_HEAD + f\"{size_of_remaining_bytes}H\" + PACKET_TAIL\n",
    "            raw1 = struct.unpack_from(descriptor1, packet)\n",
    "            raw1 = raw1[4:] # Drop the packet registration\n",
    "\n",
    "            #Option 2: Parse out the number of wavelengths from the packet first and use that to build the descriptor. nwvls * 4\n",
    "            nwvls = packet[31]\n",
    "            size_of_remaining_bytes = int(nwvls * 2 * 2)\n",
    "            descriptor2 = PACKET_HEAD + f\"{size_of_remaining_bytes}H\" + PACKET_TAIL\n",
    "            raw2 = struct.unpack_from(descriptor2, packet)\n",
    "            raw2 = raw2[4:] # Drop the packet registration\n",
    "  \n",
    "            raw_packet_1 = RawPacket(record_length=raw1[0],\n",
    "                                   packet_type = raw1[1],\n",
    "                                   reserved_1 = raw1[2],\n",
    "                                   serial_number_hexdec=raw1[3], # This is a combination of the sensor-type and serial number. Defined in the struct unpack as 'l'.\n",
    "                                   a_reference_dark=raw1[4],\n",
    "                                   pressure_counts=raw1[5], # Pressure counts can be ignored. See ACS Manual (Rev N).\n",
    "                                   a_signal_dark= raw1[6],\n",
    "                                   raw_external_temp=raw1[7],\n",
    "                                   raw_internal_temp=raw1[8],\n",
    "                                   c_reference_dark=raw1[9],\n",
    "                                   c_signal_dark=raw1[10],\n",
    "                                   elapsed_time=raw1[11],\n",
    "                                   reserved_2=raw1[12],\n",
    "                                   number_of_output_wavelengths=raw1[13],\n",
    "                                   c_reference = raw1[14::4],\n",
    "                                   a_reference = raw1[15::4],\n",
    "                                   c_signal = raw1[16::4],\n",
    "                                   a_signal = raw1[17::4])\n",
    "\n",
    "            raw_packet_2 = RawPacket(record_length=raw2[0],\n",
    "                                   packet_type = raw2[1],\n",
    "                                   reserved_1 = raw2[2],\n",
    "                                   serial_number_hexdec=raw2[3], # This is a combination of the sensor-type and serial number. Defined in the struct unpack as 'l'.\n",
    "                                   a_reference_dark=raw2[4],\n",
    "                                   pressure_counts=raw2[5], # Pressure counts can be ignored. See ACS Manual (Rev N).\n",
    "                                   a_signal_dark= raw2[6],\n",
    "                                   raw_external_temp=raw2[7],\n",
    "                                   raw_internal_temp=raw2[8],\n",
    "                                   c_reference_dark=raw2[9],\n",
    "                                   c_signal_dark=raw2[10],\n",
    "                                   elapsed_time=raw2[11],\n",
    "                                   reserved_2=raw2[12],\n",
    "                                   number_of_output_wavelengths=raw2[13],\n",
    "                                   c_reference = raw2[14::4],\n",
    "                                   a_reference = raw2[15::4],\n",
    "                                   c_signal = raw2[16::4],\n",
    "                                   a_signal = raw2[17::4])\n",
    "\n",
    "            sample_dict[sample_num] = {'time': dt, 'raw_packet_1': raw_packet_1,'raw_packet_2': raw_packet_2, 'syntax_test_1': syntax_test(packet, raw_packet_1.record_length), 'syntax_test_2': syntax_test(packet, raw_packet_2.record_length)}\n",
    "            sample_num +=1"
   ],
   "metadata": {
    "collapsed": false,
    "ExecuteTime": {
     "end_time": "2024-02-08T05:51:14.352734600Z",
     "start_time": "2024-02-08T05:51:11.475816500Z"
    }
   },
   "id": "837adfd824ce7f01"
  },
  {
   "cell_type": "code",
   "execution_count": 6,
   "outputs": [
    {
     "name": "stdout",
     "output_type": "stream",
     "text": [
      "Packet Descriptor From Option 1: !4cHBBl7HIBB336HHx\n",
      "Packet Descriptor From Option 2: !4cHBBl7HIBB336HHx\n",
      "descriptor1 == descriptor2: True\n"
     ]
    }
   ],
   "source": [
    "print('Packet Descriptor From Option 1:', descriptor1)\n",
    "print('Packet Descriptor From Option 2:', descriptor2)\n",
    "print('descriptor1 == descriptor2:', descriptor1 == descriptor2)"
   ],
   "metadata": {
    "collapsed": false,
    "ExecuteTime": {
     "end_time": "2024-02-08T05:51:14.362447100Z",
     "start_time": "2024-02-08T05:51:14.355237900Z"
    }
   },
   "id": "92da31709c70329a"
  },
  {
   "cell_type": "code",
   "execution_count": 7,
   "outputs": [
    {
     "name": "stdout",
     "output_type": "stream",
     "text": [
      "2024-02-08 05:51:11.990596+00:00\n",
      "2024-02-08 05:51:12.240844+00:00\n",
      "2024-02-08 05:51:12.490200+00:00\n",
      "2024-02-08 05:51:12.740891+00:00\n",
      "2024-02-08 05:51:12.990558+00:00\n",
      "2024-02-08 05:51:13.240186+00:00\n",
      "2024-02-08 05:51:13.490207+00:00\n",
      "2024-02-08 05:51:13.739728+00:00\n",
      "2024-02-08 05:51:13.989744+00:00\n",
      "2024-02-08 05:51:14.239766+00:00\n"
     ]
    }
   ],
   "source": [
    "for sample, details in sample_dict.items():\n",
    "    print(details['time'])"
   ],
   "metadata": {
    "collapsed": false,
    "ExecuteTime": {
     "end_time": "2024-02-08T05:51:14.369923500Z",
     "start_time": "2024-02-08T05:51:14.364451300Z"
    }
   },
   "id": "847f4e4919df71b1"
  },
  {
   "cell_type": "code",
   "execution_count": 8,
   "outputs": [
    {
     "name": "stdout",
     "output_type": "stream",
     "text": [
      "RawPacket(record_length=704, packet_type=5, reserved_1=1, serial_number_hexdec=1392508939, a_reference_dark=464, pressure_counts=0, a_signal_dark=2116, raw_external_temp=30294, raw_internal_temp=44753, c_reference_dark=480, c_signal_dark=715, elapsed_time=7522345, reserved_2=1, number_of_output_wavelengths=84, c_reference=(524, 600, 681, 779, 890, 1013, 1139, 1286, 1449, 1636, 1841, 2047, 2253, 2480, 2727, 2987, 3263, 3569, 3886, 4249, 4626, 5012, 5417, 5849, 6270, 6696, 7104, 7517, 7984, 8446, 8888, 9371, 9892, 10477, 11130, 11743, 12376, 12955, 13541, 14154, 14661, 15183, 15707, 16195, 16770, 17294, 18724, 19169, 19600, 19935, 20279, 20585, 20870, 21132, 21233, 21247, 21226, 21145, 21004, 20826, 20512, 20037, 19485, 18811, 18474, 18306, 17757, 17148, 16534, 15821, 15140, 14506, 13795, 12986, 12176, 11502, 10886, 10209, 9525, 8896, 8268, 7694, 7168, 6635, 63217), a_reference=(405, 471, 545, 631, 735, 843, 961, 1102, 1256, 1434, 1626, 1814, 2017, 2235, 2478, 2729, 3004, 3295, 3612, 3961, 4328, 4701, 5109, 5519, 5927, 6343, 6737, 7163, 7633, 8090, 8546, 9053, 9593, 10222, 10878, 11507, 12156, 12746, 13388, 13998, 14517, 15083, 15617, 16156, 16774, 17246, 18400, 18867, 19323, 19688, 20057, 20376, 20688, 20971, 21097, 21146, 21140, 21075, 20940, 20771, 20458, 19969, 19421, 18781, 18477, 18287, 17720, 17109, 16488, 15774, 15099, 14452, 13725, 12889, 12080, 11402, 10761, 10061, 9372, 8724, 8095, 7513, 6971, 6429), c_signal=(484, 556, 636, 728, 841, 962, 1088, 1233, 1404, 1589, 1802, 2017, 2231, 2469, 2726, 3006, 3288, 3619, 3951, 4335, 4742, 5162, 5590, 6067, 6521, 6990, 7441, 7878, 8389, 8909, 9388, 9906, 10480, 11101, 11836, 12510, 13201, 13857, 14482, 15183, 15754, 16314, 16919, 17450, 18084, 18728, 20233, 20733, 21235, 21612, 22000, 22362, 22677, 23010, 23156, 23176, 23186, 23119, 22984, 22810, 22527, 22015, 21450, 20690, 20260, 20196, 19629, 18928, 18283, 17502, 16739, 16055, 15300, 14414, 13499, 12747, 12092, 11349, 10578, 9885, 9197, 8554, 7981, 7384), a_signal=(318, 317, 397, 476, 545, 593, 625, 719, 897, 1111, 1372, 1691, 2127, 2640, 3139, 3524, 3820, 4090, 4444, 4928, 5430, 5916, 6428, 6913, 7436, 8041, 8630, 9304, 10108, 10986, 11916, 12878, 13768, 14679, 15583, 16496, 17524, 18467, 19463, 20390, 21156, 22023, 22906, 23821, 24878, 25772, 28095, 28820, 29609, 30305, 30977, 31548, 32077, 32550, 32842, 33043, 33177, 33255, 33301, 33362, 33199, 32658, 31857, 30816, 30301, 30028, 29184, 28230, 27220, 26009, 24834, 23755, 22572, 21212, 19917, 18916, 18059, 17122, 16117, 15039, 13877, 12769, 11800, 10882))\n"
     ]
    }
   ],
   "source": [
    "print(sample_dict[9]['raw_packet_2'])"
   ],
   "metadata": {
    "collapsed": false,
    "ExecuteTime": {
     "end_time": "2024-02-08T05:51:14.383195400Z",
     "start_time": "2024-02-08T05:51:14.369923500Z"
    }
   },
   "id": "48e93f5891065a5b"
  },
  {
   "cell_type": "code",
   "execution_count": 8,
   "outputs": [],
   "source": [],
   "metadata": {
    "collapsed": false,
    "ExecuteTime": {
     "end_time": "2024-02-08T05:51:14.421061400Z",
     "start_time": "2024-02-08T05:51:14.374187200Z"
    }
   },
   "id": "51ed7e9ae365caab"
  }
 ],
 "metadata": {
  "kernelspec": {
   "display_name": "Python 3",
   "language": "python",
   "name": "python3"
  },
  "language_info": {
   "codemirror_mode": {
    "name": "ipython",
    "version": 2
   },
   "file_extension": ".py",
   "mimetype": "text/x-python",
   "name": "python",
   "nbconvert_exporter": "python",
   "pygments_lexer": "ipython2",
   "version": "2.7.6"
  }
 },
 "nbformat": 4,
 "nbformat_minor": 5
}
