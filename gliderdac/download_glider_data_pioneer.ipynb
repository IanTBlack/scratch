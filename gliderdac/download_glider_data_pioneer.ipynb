{
 "cells": [
  {
   "cell_type": "markdown",
   "id": "b29ce9eb-39e8-491a-a6d1-f9d171425bd9",
   "metadata": {
    "tags": []
   },
   "source": [
    "## Setup\n",
    "\n",
    "This notebook requires the use of pandas and erddapy for searching for and downloading data from the GliderDAC."
   ]
  },
  {
   "cell_type": "code",
   "execution_count": 1,
   "id": "6ad612bf-1e08-4e54-9a25-5171f5b5a1c9",
   "metadata": {
    "tags": []
   },
   "outputs": [],
   "source": [
    "# !pip install erddapy\n",
    "# !pip install pandas"
   ]
  },
  {
   "cell_type": "markdown",
   "id": "0594cf56-af36-4dcc-b152-42de849cc2ae",
   "metadata": {
    "tags": []
   },
   "source": [
    "## Imports"
   ]
  },
  {
   "cell_type": "code",
   "execution_count": 2,
   "id": "97c9b811-e2cd-4f42-ad58-080602331808",
   "metadata": {
    "tags": []
   },
   "outputs": [],
   "source": [
    "from datetime import datetime\n",
    "import os\n",
    "import pandas as pd\n",
    "from urllib.request import urlretrieve\n",
    "\n",
    "from erddapy import ERDDAP"
   ]
  },
  {
   "cell_type": "markdown",
   "id": "ace592ab-fc37-4ca4-b821-dfc6fd0c885c",
   "metadata": {},
   "source": [
    "## Setup ERDDAP Server"
   ]
  },
  {
   "cell_type": "code",
   "execution_count": 3,
   "id": "8f2b36b9-d31d-4794-a3f7-58ae746e53c5",
   "metadata": {
    "tags": []
   },
   "outputs": [],
   "source": [
    "server = 'https://gliders.ioos.us/erddap/'\n",
    "e = ERDDAP(server = server)"
   ]
  },
  {
   "cell_type": "markdown",
   "id": "4526fc9d-eb96-40d2-858e-231249a501d5",
   "metadata": {},
   "source": [
    "## Define Bounding Limits"
   ]
  },
  {
   "cell_type": "code",
   "execution_count": 4,
   "id": "2c54c132-24ea-4ab4-aefe-e0e199a6f5ff",
   "metadata": {
    "tags": []
   },
   "outputs": [],
   "source": [
    "min_lat = 38\n",
    "max_lat = 41\n",
    "min_lon = -72\n",
    "max_lon = -69\n",
    "bdt = datetime(2014,1,1)  # Search start time.\n",
    "edt = datetime(2018,12,31,23,59,59) # Search end time."
   ]
  },
  {
   "cell_type": "markdown",
   "id": "7d00615f-4fc1-4340-9a0d-fd72a48b0e21",
   "metadata": {
    "tags": []
   },
   "source": [
    "## Find Datasets"
   ]
  },
  {
   "cell_type": "code",
   "execution_count": 5,
   "id": "14052dce-8798-49a1-a825-14233ed3c141",
   "metadata": {
    "tags": []
   },
   "outputs": [],
   "source": [
    "url = e.get_search_url(response = 'csv', search_for = 'all', \n",
    "                       min_lon = min_lon, max_lon = max_lon, min_lat = min_lat, max_lat = max_lat,\n",
    "                       min_time = bdt.strftime('%Y-%m-%dT%H:%M:%SZ'), max_time = edt.strftime('%Y-%m-%dT%H:%M:%SZ'))\n",
    "df = pd.read_csv(url)\n",
    "dataset_ids = df['Dataset ID'].tolist()  #This lists all glider deployments in the area and time bounds, not just OOI Pioneer gliders."
   ]
  },
  {
   "cell_type": "markdown",
   "id": "e3b2537b-78aa-4348-b9e7-4437def84172",
   "metadata": {
    "tags": []
   },
   "source": [
    "## All GliderDAC Datasets"
   ]
  },
  {
   "cell_type": "code",
   "execution_count": 6,
   "id": "3c351067-1540-4b86-b24f-6b3219b5e73d",
   "metadata": {
    "tags": []
   },
   "outputs": [
    {
     "data": {
      "text/plain": [
       "['blue-20150627T1242',\n",
       " 'blue-20160518T1525',\n",
       " 'blue-20160818T1448',\n",
       " 'blue-20170831T1436',\n",
       " 'blue-20180806T1400',\n",
       " 'cp_335-20141006T2016-delayed',\n",
       " 'cp_335-20151014T0113-delayed',\n",
       " 'cp_335-20160404T1853-delayed',\n",
       " 'cp_335-20160527T2033-delayed',\n",
       " 'cp_335-20170116T1459-delayed',\n",
       " 'cp_336-20150111T2057-delayed',\n",
       " 'cp_336-20160809T1354-delayed',\n",
       " 'cp_336-20161011T0058-delayed',\n",
       " 'cp_336-20170116T1254-delayed',\n",
       " 'cp_336-20170817T1159-delayed',\n",
       " 'cp_336-20180127T1620-delayed',\n",
       " 'cp_336-20180724T1433-delayed',\n",
       " 'cp_339-20150112T0601-delayed',\n",
       " 'cp_339-20160121T1629-delayed',\n",
       " 'cp_339-20170116T2353-delayed',\n",
       " 'cp_339-20170606T0344-delayed',\n",
       " 'cp_339-20171029T0031-delayed',\n",
       " 'cp_339-20180127T1818-delayed',\n",
       " 'cp_339-20181030T2158-delayed',\n",
       " 'cp_339-20181209T1636-delayed',\n",
       " 'cp_340-20141006T2335-delayed',\n",
       " 'cp_340-20150507T0237-delayed',\n",
       " 'cp_340-20160121T1708-delayed',\n",
       " 'cp_340-20160809T0621-delayed',\n",
       " 'cp_340-20170817T0820-delayed',\n",
       " 'cp_374-20140416T1634-delayed',\n",
       " 'cp_374-20150509T1256-delayed',\n",
       " 'cp_374-20160529T0026-delayed',\n",
       " 'cp_375-20150111T1947',\n",
       " 'cp_376-20141006T2328-delayed',\n",
       " 'cp_376-20151012T2326-delayed',\n",
       " 'cp_376-20160121T1515-delayed',\n",
       " 'cp_376-20160527T2050-delayed',\n",
       " 'cp_376-20170607T0231-delayed',\n",
       " 'cp_376-20171028T2157-delayed',\n",
       " 'cp_376-20180724T1552-delayed',\n",
       " 'cp_379-20140415T1315-delayed',\n",
       " 'cp_379-20150509T1231-delayed',\n",
       " 'cp_379-20160121T1500-delayed',\n",
       " 'cp_380-20141007T0106-delayed',\n",
       " 'cp_380-20150723T2137-delayed',\n",
       " 'cp_380-20161011T2046-delayed',\n",
       " 'cp_380-20170607T0251-delayed',\n",
       " 'cp_380-20171101T0150-delayed',\n",
       " 'cp_380-20180127T1629-delayed',\n",
       " 'cp_380-20181025T2023-delayed',\n",
       " 'cp_387-20140416T1440-delayed',\n",
       " 'cp_387-20150111T1716-delayed',\n",
       " 'cp_387-20151014T0119-delayed',\n",
       " 'cp_387-20160404T1858-delayed',\n",
       " 'cp_387-20170419T2053-delayed',\n",
       " 'cp_387-20171028T2202-delayed',\n",
       " 'cp_388-20141006T2014-delayed',\n",
       " 'cp_388-20151022T1232-delayed',\n",
       " 'cp_388-20160809T1406-delayed',\n",
       " 'cp_388-20170116T1324-delayed',\n",
       " 'cp_388-20171101T0120-delayed',\n",
       " 'cp_388-20181030T2211-delayed',\n",
       " 'cp_389-20150111T1830-delayed',\n",
       " 'cp_389-20151013T0058-delayed',\n",
       " 'cp_389-20161011T2040-delayed',\n",
       " 'cp_389-20180724T1620-delayed',\n",
       " 'cp_564-20170817T1020-delayed',\n",
       " 'cp_583-20170419T0530-delayed',\n",
       " 'ru30-20180705T1825',\n",
       " 'silbo-20160413T1534',\n",
       " 'sp007-20170427T1652',\n",
       " 'sp010-20150409T1524',\n",
       " 'sp010-20170707T1647',\n",
       " 'sp010-20180620T1455',\n",
       " 'sp022-20170209T1616',\n",
       " 'sp022-20180422T1229',\n",
       " 'sp065-20151001T1507',\n",
       " 'sp065-20181015T1349',\n",
       " 'sp066-20151217T1624',\n",
       " 'sp066-20171129T1616',\n",
       " 'whoi_406-20160902T1700']"
      ]
     },
     "execution_count": 6,
     "metadata": {},
     "output_type": "execute_result"
    }
   ],
   "source": [
    "dataset_ids"
   ]
  },
  {
   "cell_type": "markdown",
   "id": "569eab47-5fc0-4fa9-989a-e5d89967f0da",
   "metadata": {},
   "source": [
    "## Pioneer Datasets"
   ]
  },
  {
   "cell_type": "code",
   "execution_count": 7,
   "id": "62b56cea-f0e2-45d6-871d-7715a7641e8b",
   "metadata": {
    "tags": []
   },
   "outputs": [],
   "source": [
    "pioneer_datasets = [dataset_id for dataset_id in dataset_ids if 'cp_' in dataset_id]"
   ]
  },
  {
   "cell_type": "code",
   "execution_count": 8,
   "id": "359da61a-b365-44af-9d2d-29221bd2cf26",
   "metadata": {
    "tags": []
   },
   "outputs": [
    {
     "data": {
      "text/plain": [
       "['cp_335-20141006T2016-delayed',\n",
       " 'cp_335-20151014T0113-delayed',\n",
       " 'cp_335-20160404T1853-delayed',\n",
       " 'cp_335-20160527T2033-delayed',\n",
       " 'cp_335-20170116T1459-delayed',\n",
       " 'cp_336-20150111T2057-delayed',\n",
       " 'cp_336-20160809T1354-delayed',\n",
       " 'cp_336-20161011T0058-delayed',\n",
       " 'cp_336-20170116T1254-delayed',\n",
       " 'cp_336-20170817T1159-delayed',\n",
       " 'cp_336-20180127T1620-delayed',\n",
       " 'cp_336-20180724T1433-delayed',\n",
       " 'cp_339-20150112T0601-delayed',\n",
       " 'cp_339-20160121T1629-delayed',\n",
       " 'cp_339-20170116T2353-delayed',\n",
       " 'cp_339-20170606T0344-delayed',\n",
       " 'cp_339-20171029T0031-delayed',\n",
       " 'cp_339-20180127T1818-delayed',\n",
       " 'cp_339-20181030T2158-delayed',\n",
       " 'cp_339-20181209T1636-delayed',\n",
       " 'cp_340-20141006T2335-delayed',\n",
       " 'cp_340-20150507T0237-delayed',\n",
       " 'cp_340-20160121T1708-delayed',\n",
       " 'cp_340-20160809T0621-delayed',\n",
       " 'cp_340-20170817T0820-delayed',\n",
       " 'cp_374-20140416T1634-delayed',\n",
       " 'cp_374-20150509T1256-delayed',\n",
       " 'cp_374-20160529T0026-delayed',\n",
       " 'cp_375-20150111T1947',\n",
       " 'cp_376-20141006T2328-delayed',\n",
       " 'cp_376-20151012T2326-delayed',\n",
       " 'cp_376-20160121T1515-delayed',\n",
       " 'cp_376-20160527T2050-delayed',\n",
       " 'cp_376-20170607T0231-delayed',\n",
       " 'cp_376-20171028T2157-delayed',\n",
       " 'cp_376-20180724T1552-delayed',\n",
       " 'cp_379-20140415T1315-delayed',\n",
       " 'cp_379-20150509T1231-delayed',\n",
       " 'cp_379-20160121T1500-delayed',\n",
       " 'cp_380-20141007T0106-delayed',\n",
       " 'cp_380-20150723T2137-delayed',\n",
       " 'cp_380-20161011T2046-delayed',\n",
       " 'cp_380-20170607T0251-delayed',\n",
       " 'cp_380-20171101T0150-delayed',\n",
       " 'cp_380-20180127T1629-delayed',\n",
       " 'cp_380-20181025T2023-delayed',\n",
       " 'cp_387-20140416T1440-delayed',\n",
       " 'cp_387-20150111T1716-delayed',\n",
       " 'cp_387-20151014T0119-delayed',\n",
       " 'cp_387-20160404T1858-delayed',\n",
       " 'cp_387-20170419T2053-delayed',\n",
       " 'cp_387-20171028T2202-delayed',\n",
       " 'cp_388-20141006T2014-delayed',\n",
       " 'cp_388-20151022T1232-delayed',\n",
       " 'cp_388-20160809T1406-delayed',\n",
       " 'cp_388-20170116T1324-delayed',\n",
       " 'cp_388-20171101T0120-delayed',\n",
       " 'cp_388-20181030T2211-delayed',\n",
       " 'cp_389-20150111T1830-delayed',\n",
       " 'cp_389-20151013T0058-delayed',\n",
       " 'cp_389-20161011T2040-delayed',\n",
       " 'cp_389-20180724T1620-delayed',\n",
       " 'cp_564-20170817T1020-delayed',\n",
       " 'cp_583-20170419T0530-delayed']"
      ]
     },
     "execution_count": 8,
     "metadata": {},
     "output_type": "execute_result"
    }
   ],
   "source": [
    "pioneer_datasets"
   ]
  },
  {
   "cell_type": "markdown",
   "id": "3470499a-b7f7-49d3-bc0d-d948c549902a",
   "metadata": {},
   "source": [
    "# Download A Dataset"
   ]
  },
  {
   "cell_type": "code",
   "execution_count": 9,
   "id": "dabc1724-6862-48a4-85cb-52df64878233",
   "metadata": {},
   "outputs": [],
   "source": [
    "def download_glider_dataset(dataset_id: str, overwrite: bool = False) -> None:\n",
    "    server = 'https://gliders.ioos.us/erddap/'\n",
    "    e = ERDDAP(server = server)\n",
    "    e.dataset_id = dataset_id\n",
    "    opendap_url = e.get_download_url(protocol = 'tabledap', response = 'nc')\n",
    "    filename = opendap_url.split('/')[-1].split('?')[0]\n",
    "    if os.path.isfile(filename) and overwrite is False:\n",
    "        print(f\"{filename} already exists!\")\n",
    "        return\n",
    "    else:\n",
    "        print(f'Downloading {filename}...')\n",
    "    urlretrieve(opendap_url, filename)\n",
    "    if not os.path.isfile(filename):\n",
    "        raise FileNotFoundError(filename)\n",
    "    else:\n",
    "        print(f\"{filename} has been downloaded.\")"
   ]
  },
  {
   "cell_type": "code",
   "execution_count": 10,
   "id": "b2c4e5e6-6a14-40ff-83da-674c58a272a3",
   "metadata": {
    "tags": []
   },
   "outputs": [
    {
     "name": "stdout",
     "output_type": "stream",
     "text": [
      "Downloading cp_336-20180127T1620-delayed.nc...\n",
      "cp_336-20180127T1620-delayed.nc has been downloaded.\n"
     ]
    }
   ],
   "source": [
    "download_glider_dataset('cp_336-20180127T1620-delayed')"
   ]
  }
 ],
 "metadata": {
  "kernelspec": {
   "display_name": "Python (ormhw)",
   "language": "python",
   "name": "ormhw"
  },
  "language_info": {
   "codemirror_mode": {
    "name": "ipython",
    "version": 3
   },
   "file_extension": ".py",
   "mimetype": "text/x-python",
   "name": "python",
   "nbconvert_exporter": "python",
   "pygments_lexer": "ipython3",
   "version": "3.12.1"
  }
 },
 "nbformat": 4,
 "nbformat_minor": 5
}
